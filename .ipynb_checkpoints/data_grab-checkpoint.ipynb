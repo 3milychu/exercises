{
 "cells": [
  {
   "cell_type": "code",
   "execution_count": 1,
   "metadata": {
    "collapsed": true
   },
   "outputs": [],
   "source": [
    "# get list of pictures from folder and save as csv"
   ]
  },
  {
   "cell_type": "code",
   "execution_count": 9,
   "metadata": {},
   "outputs": [
    {
     "name": "stdout",
     "output_type": "stream",
     "text": [
      "21\n"
     ]
    }
   ],
   "source": [
    "import os\n",
    "import numpy as np\n",
    "\n",
    "file_list = []\n",
    "file_path = \"/Volumes/Samsung_t3/project-repos/exercises/pics\"\n",
    "for root, dirs, files in os.walk(file_path):\n",
    "    for file in files:\n",
    "        file_list.append(file)\n",
    "        \n",
    "print(len(file_list))\n",
    "        \n",
    "np.savetxt('file.csv', file_list, fmt=\"%s\", delimiter = \",\")"
   ]
  },
  {
   "cell_type": "code",
   "execution_count": 10,
   "metadata": {
    "collapsed": true
   },
   "outputs": [],
   "source": [
    "# See what the csv looks like and adjust as needed"
   ]
  },
  {
   "cell_type": "code",
   "execution_count": 14,
   "metadata": {},
   "outputs": [
    {
     "name": "stdout",
     "output_type": "stream",
     "text": [
      "   0E566410-D430-4EBC-BEB7-6446D8F7ECFB.jpeg\n",
      "0  1299BD1C-D279-420B-BD78-FA360539277D.jpeg\n",
      "1  141678CF-4138-419A-B796-7F1B2464789C.jpeg\n",
      "2  23F98D91-B511-4D15-90BC-A96CD0C62AC7.jpeg\n",
      "3  30ACC50F-B486-48CB-BA4F-033CD1FB68F8.jpeg\n",
      "4  45531042-1EAA-448A-8A65-E26B1A21AFB9.jpeg\n"
     ]
    }
   ],
   "source": [
    "import numpy as np\n",
    "import pandas as pd\n",
    "from matplotlib import pyplot as plt\n",
    "\n",
    "file_path = \"/Volumes/Samsung_t3/project-repos/exercises/file.csv\"\n",
    "df = pd.read_csv(file_path)\n",
    "\n",
    "print(df.head())"
   ]
  },
  {
   "cell_type": "code",
   "execution_count": 15,
   "metadata": {
    "collapsed": true
   },
   "outputs": [],
   "source": [
    "df['Index'] = df.index"
   ]
  },
  {
   "cell_type": "code",
   "execution_count": 16,
   "metadata": {},
   "outputs": [
    {
     "name": "stdout",
     "output_type": "stream",
     "text": [
      "   0E566410-D430-4EBC-BEB7-6446D8F7ECFB.jpeg  Index\n",
      "0  1299BD1C-D279-420B-BD78-FA360539277D.jpeg      0\n",
      "1  141678CF-4138-419A-B796-7F1B2464789C.jpeg      1\n",
      "2  23F98D91-B511-4D15-90BC-A96CD0C62AC7.jpeg      2\n",
      "3  30ACC50F-B486-48CB-BA4F-033CD1FB68F8.jpeg      3\n",
      "4  45531042-1EAA-448A-8A65-E26B1A21AFB9.jpeg      4\n"
     ]
    }
   ],
   "source": [
    "print(df.head())"
   ]
  },
  {
   "cell_type": "code",
   "execution_count": 17,
   "metadata": {
    "collapsed": true
   },
   "outputs": [],
   "source": [
    "df.to_csv(file_path, index=False)"
   ]
  },
  {
   "cell_type": "code",
   "execution_count": 18,
   "metadata": {},
   "outputs": [
    {
     "data": {
      "text/plain": [
       "['0E566410-D430-4EBC-BEB7-6446D8F7ECFB.jpeg', 'Index']"
      ]
     },
     "execution_count": 18,
     "metadata": {},
     "output_type": "execute_result"
    }
   ],
   "source": [
    "list(df)"
   ]
  },
  {
   "cell_type": "code",
   "execution_count": 22,
   "metadata": {},
   "outputs": [
    {
     "data": {
      "text/plain": [
       "2240"
      ]
     },
     "execution_count": 22,
     "metadata": {},
     "output_type": "execute_result"
    }
   ],
   "source": [
    "# Convert csv to json\n",
    "\n",
    "import csv\n",
    "import json\n",
    "\n",
    "csvfile = open(file_path, 'r')\n",
    "jsonfile = open(\"/Volumes/Samsung_t3/project-repos/exercises/file.json\", 'w')\n",
    "\n",
    "fieldnames = ('0E566410-D430-4EBC-BEB7-6446D8F7ECFB.jpeg', 'Index')\n",
    "\n",
    "reader = csv.DictReader(csvfile, fieldnames)\n",
    "out = json.dumps( [row for row in reader])\n",
    "jsonfile.write(out)"
   ]
  },
  {
   "cell_type": "code",
   "execution_count": null,
   "metadata": {
    "collapsed": true
   },
   "outputs": [],
   "source": []
  }
 ],
 "metadata": {
  "kernelspec": {
   "display_name": "Python 3",
   "language": "python",
   "name": "python3"
  },
  "language_info": {
   "codemirror_mode": {
    "name": "ipython",
    "version": 3
   },
   "file_extension": ".py",
   "mimetype": "text/x-python",
   "name": "python",
   "nbconvert_exporter": "python",
   "pygments_lexer": "ipython3",
   "version": "3.6.3"
  }
 },
 "nbformat": 4,
 "nbformat_minor": 2
}
